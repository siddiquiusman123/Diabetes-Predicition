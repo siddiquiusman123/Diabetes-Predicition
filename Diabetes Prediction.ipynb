{
 "cells": [
  {
   "cell_type": "markdown",
   "id": "12fdb1c7-17ab-496b-aa9a-a21e9ae89e33",
   "metadata": {},
   "source": [
    "# Diabetes Prediction"
   ]
  },
  {
   "cell_type": "code",
   "execution_count": 1,
   "id": "d468ba28-4688-434f-ab96-dcc257d7f784",
   "metadata": {},
   "outputs": [],
   "source": [
    "# Import Required Libraries"
   ]
  },
  {
   "cell_type": "code",
   "execution_count": 2,
   "id": "daa2de40-f531-4236-bd38-f7a69ad19361",
   "metadata": {},
   "outputs": [],
   "source": [
    "import pandas as pd\n",
    "import seaborn as sns\n",
    "import joblib\n",
    "import numpy as np\n",
    "import matplotlib.pyplot as plt\n",
    "from sklearn.model_selection import train_test_split , KFold , cross_val_score , GridSearchCV , RandomizedSearchCV , StratifiedKFold\n",
    "from sklearn.preprocessing import StandardScaler\n",
    "from sklearn.linear_model import LogisticRegression\n",
    "from sklearn.svm import SVC\n",
    "from sklearn.metrics import confusion_matrix , precision_score , recall_score , f1_score , accuracy_score , classification_report\n",
    "from sklearn.neighbors import KNeighborsClassifier\n",
    "from sklearn.tree import DecisionTreeClassifier\n",
    "from mlxtend.plotting import plot_decision_regions\n",
    "from sklearn.ensemble import RandomForestClassifier\n",
    "from sklearn.ensemble import AdaBoostClassifier\n",
    "from sklearn.ensemble import GradientBoostingClassifier\n",
    "import xgboost as xgb\n",
    "from imblearn.over_sampling import RandomOverSampler , SMOTE"
   ]
  },
  {
   "cell_type": "code",
   "execution_count": 3,
   "id": "8a0bf6bc-4b51-494f-a61b-421bed924ab6",
   "metadata": {},
   "outputs": [],
   "source": [
    "# Load The Dataset"
   ]
  },
  {
   "cell_type": "code",
   "execution_count": 4,
   "id": "ac605ac5-c1c3-43f2-b47e-755968fbbc30",
   "metadata": {},
   "outputs": [],
   "source": [
    "dataset = pd.read_csv(\"Diabetes.csv\")"
   ]
  },
  {
   "cell_type": "code",
   "execution_count": 5,
   "id": "21408d3e-4bf6-4e49-b11b-c5d604dcf12c",
   "metadata": {},
   "outputs": [
    {
     "data": {
      "text/html": [
       "<div>\n",
       "<style scoped>\n",
       "    .dataframe tbody tr th:only-of-type {\n",
       "        vertical-align: middle;\n",
       "    }\n",
       "\n",
       "    .dataframe tbody tr th {\n",
       "        vertical-align: top;\n",
       "    }\n",
       "\n",
       "    .dataframe thead th {\n",
       "        text-align: right;\n",
       "    }\n",
       "</style>\n",
       "<table border=\"1\" class=\"dataframe\">\n",
       "  <thead>\n",
       "    <tr style=\"text-align: right;\">\n",
       "      <th></th>\n",
       "      <th>Pregnancies</th>\n",
       "      <th>Glucose</th>\n",
       "      <th>BloodPressure</th>\n",
       "      <th>SkinThickness</th>\n",
       "      <th>Insulin</th>\n",
       "      <th>BMI</th>\n",
       "      <th>DiabetesPedigreeFunction</th>\n",
       "      <th>Age</th>\n",
       "      <th>Outcome</th>\n",
       "    </tr>\n",
       "  </thead>\n",
       "  <tbody>\n",
       "    <tr>\n",
       "      <th>0</th>\n",
       "      <td>6</td>\n",
       "      <td>148</td>\n",
       "      <td>72</td>\n",
       "      <td>35</td>\n",
       "      <td>0</td>\n",
       "      <td>33.6</td>\n",
       "      <td>0.627</td>\n",
       "      <td>50</td>\n",
       "      <td>1</td>\n",
       "    </tr>\n",
       "    <tr>\n",
       "      <th>1</th>\n",
       "      <td>1</td>\n",
       "      <td>85</td>\n",
       "      <td>66</td>\n",
       "      <td>29</td>\n",
       "      <td>0</td>\n",
       "      <td>26.6</td>\n",
       "      <td>0.351</td>\n",
       "      <td>31</td>\n",
       "      <td>0</td>\n",
       "    </tr>\n",
       "    <tr>\n",
       "      <th>2</th>\n",
       "      <td>8</td>\n",
       "      <td>183</td>\n",
       "      <td>64</td>\n",
       "      <td>0</td>\n",
       "      <td>0</td>\n",
       "      <td>23.3</td>\n",
       "      <td>0.672</td>\n",
       "      <td>32</td>\n",
       "      <td>1</td>\n",
       "    </tr>\n",
       "  </tbody>\n",
       "</table>\n",
       "</div>"
      ],
      "text/plain": [
       "   Pregnancies  Glucose  BloodPressure  SkinThickness  Insulin   BMI  \\\n",
       "0            6      148             72             35        0  33.6   \n",
       "1            1       85             66             29        0  26.6   \n",
       "2            8      183             64              0        0  23.3   \n",
       "\n",
       "   DiabetesPedigreeFunction  Age  Outcome  \n",
       "0                     0.627   50        1  \n",
       "1                     0.351   31        0  \n",
       "2                     0.672   32        1  "
      ]
     },
     "execution_count": 5,
     "metadata": {},
     "output_type": "execute_result"
    }
   ],
   "source": [
    "dataset.head(3)"
   ]
  },
  {
   "cell_type": "code",
   "execution_count": 6,
   "id": "1b4cc2b1-662d-4846-9a84-c86e5696e1b6",
   "metadata": {},
   "outputs": [
    {
     "name": "stdout",
     "output_type": "stream",
     "text": [
      "<class 'pandas.core.frame.DataFrame'>\n",
      "RangeIndex: 768 entries, 0 to 767\n",
      "Data columns (total 9 columns):\n",
      " #   Column                    Non-Null Count  Dtype  \n",
      "---  ------                    --------------  -----  \n",
      " 0   Pregnancies               768 non-null    int64  \n",
      " 1   Glucose                   768 non-null    int64  \n",
      " 2   BloodPressure             768 non-null    int64  \n",
      " 3   SkinThickness             768 non-null    int64  \n",
      " 4   Insulin                   768 non-null    int64  \n",
      " 5   BMI                       768 non-null    float64\n",
      " 6   DiabetesPedigreeFunction  768 non-null    float64\n",
      " 7   Age                       768 non-null    int64  \n",
      " 8   Outcome                   768 non-null    int64  \n",
      "dtypes: float64(2), int64(7)\n",
      "memory usage: 54.1 KB\n"
     ]
    }
   ],
   "source": [
    "dataset.info()"
   ]
  },
  {
   "cell_type": "code",
   "execution_count": 7,
   "id": "887bff7b-af64-4fa0-a9b9-745ef8762a65",
   "metadata": {},
   "outputs": [],
   "source": [
    "# Data Preprocessing"
   ]
  },
  {
   "cell_type": "code",
   "execution_count": 8,
   "id": "83d80630-924b-40a8-b534-e8c38661e543",
   "metadata": {},
   "outputs": [
    {
     "data": {
      "text/plain": [
       "Pregnancies                 0\n",
       "Glucose                     0\n",
       "BloodPressure               0\n",
       "SkinThickness               0\n",
       "Insulin                     0\n",
       "BMI                         0\n",
       "DiabetesPedigreeFunction    0\n",
       "Age                         0\n",
       "Outcome                     0\n",
       "dtype: int64"
      ]
     },
     "execution_count": 8,
     "metadata": {},
     "output_type": "execute_result"
    }
   ],
   "source": [
    "dataset.isnull().sum()"
   ]
  },
  {
   "cell_type": "code",
   "execution_count": 9,
   "id": "0093a07e-3a81-4451-8472-1e88187cc5f1",
   "metadata": {},
   "outputs": [
    {
     "data": {
      "text/plain": [
       "(768, 9)"
      ]
     },
     "execution_count": 9,
     "metadata": {},
     "output_type": "execute_result"
    }
   ],
   "source": [
    "dataset.shape"
   ]
  },
  {
   "cell_type": "code",
   "execution_count": 10,
   "id": "a9d09fd4-7085-4340-b927-0954e6d68e26",
   "metadata": {},
   "outputs": [],
   "source": [
    "# # Replace 0 values in some columns with median"
   ]
  },
  {
   "cell_type": "code",
   "execution_count": 11,
   "id": "0c0b1029-bb83-42fc-91c6-fc37d14ad441",
   "metadata": {},
   "outputs": [],
   "source": [
    "cols = ['Glucose', 'BloodPressure', 'SkinThickness', 'Insulin','BMI']\n",
    "for col in cols:\n",
    "    dataset[col] = dataset[col].replace(0 , dataset[col].mean())"
   ]
  },
  {
   "cell_type": "code",
   "execution_count": 12,
   "id": "7f1fe05d-1bbc-43f0-889b-af6f8d4cd4dc",
   "metadata": {},
   "outputs": [
    {
     "data": {
      "text/plain": [
       "0"
      ]
     },
     "execution_count": 12,
     "metadata": {},
     "output_type": "execute_result"
    }
   ],
   "source": [
    "dataset.duplicated().sum()"
   ]
  },
  {
   "cell_type": "code",
   "execution_count": 13,
   "id": "5b98516c-f133-467c-93d9-0dc5498e4799",
   "metadata": {},
   "outputs": [],
   "source": [
    "# Outlier"
   ]
  },
  {
   "cell_type": "code",
   "execution_count": 14,
   "id": "8ed41d6a-51a1-4fa0-93a3-bba243b43528",
   "metadata": {},
   "outputs": [
    {
     "data": {
      "image/png": "[encoded data removed]",
      "text/plain": [
       "<Figure size 1400x600 with 1 Axes>"
      ]
     },
     "metadata": {},
     "output_type": "display_data"
    }
   ],
   "source": [
    "plt.figure(figsize=(14,6))\n",
    "sns.boxplot(data=dataset[dataset.select_dtypes(include=['int64','float64']).columns])\n",
    "plt.show()"
   ]
  },
  {
   "cell_type": "code",
   "execution_count": 15,
   "id": "e31bbc5a-b5d4-466b-a086-d12b40488d45",
   "metadata": {},
   "outputs": [],
   "source": [
    "# q1 = dataset[\"Insulin\"].quantile(0.25)\n",
    "# q3 = dataset[\"Insulin\"].quantile(0.75)\n",
    "\n",
    "# IQR = q3 - q1\n",
    "\n",
    "# min_range = q1 - (1.5 * IQR)\n",
    "# max_range = q3 + (1.5 * IQR)\n",
    "\n",
    "# new_dataset = dataset[dataset[\"Insulin\"] <= max_range]"
   ]
  },
  {
   "cell_type": "code",
   "execution_count": 16,
   "id": "ac835a0f-e906-409c-97e0-f775b6d1b203",
   "metadata": {},
   "outputs": [
    {
     "data": {
      "text/plain": [
       "(768, 9)"
      ]
     },
     "execution_count": 16,
     "metadata": {},
     "output_type": "execute_result"
    }
   ],
   "source": [
    "dataset.shape"
   ]
  },
  {
   "cell_type": "code",
   "execution_count": 17,
   "id": "6bb0bdc4-3155-4ee3-80df-c16a272dcec2",
   "metadata": {},
   "outputs": [],
   "source": [
    "# Feature and target"
   ]
  },
  {
   "cell_type": "code",
   "execution_count": 18,
   "id": "4f46a65e-ea60-4f47-8f6b-934a14017a18",
   "metadata": {},
   "outputs": [],
   "source": [
    "x = dataset.iloc[:,:-1]\n",
    "y = dataset[\"Outcome\"]"
   ]
  },
  {
   "cell_type": "code",
   "execution_count": 19,
   "id": "ee23508d-ac97-45ba-a9a4-93ca13ef8fa8",
   "metadata": {},
   "outputs": [],
   "source": [
    "# Spliting The data into train test"
   ]
  },
  {
   "cell_type": "code",
   "execution_count": 20,
   "id": "1d1b8729-aca7-4093-9d86-6d2de8b6e88e",
   "metadata": {},
   "outputs": [],
   "source": [
    "X_train , X_test , Y_train , Y_test = train_test_split(x , y , test_size=0.2, random_state=42) "
   ]
  },
  {
   "cell_type": "code",
   "execution_count": 21,
   "id": "ca931493-a6f0-4559-8f4b-62f16e7e4689",
   "metadata": {},
   "outputs": [
    {
     "name": "stdout",
     "output_type": "stream",
     "text": [
      "Training Shape : (614, 8)\n",
      "Testing Size : (154, 8)\n"
     ]
    }
   ],
   "source": [
    "print(f\"Training Shape : {X_train.shape}\")\n",
    "print(f\"Testing Size : {X_test.shape}\")"
   ]
  },
  {
   "cell_type": "code",
   "execution_count": 22,
   "id": "4c31f4c5-f3f5-44bd-842e-10cada071cc2",
   "metadata": {},
   "outputs": [],
   "source": [
    "# Scaling"
   ]
  },
  {
   "cell_type": "code",
   "execution_count": 23,
   "id": "240a584a-c2be-4025-b38a-3f661dd24166",
   "metadata": {},
   "outputs": [],
   "source": [
    "numeric_colum = X_train.select_dtypes(include=['int64','float64']).columns"
   ]
  },
  {
   "cell_type": "code",
   "execution_count": 24,
   "id": "dbe94cae-111e-43b6-b336-16527271d2a9",
   "metadata": {},
   "outputs": [],
   "source": [
    "scaler = StandardScaler()\n",
    "X_train[numeric_colum] = scaler.fit_transform(X_train[numeric_colum])\n",
    "X_test[numeric_colum] = scaler.transform(X_test[numeric_colum])"
   ]
  },
  {
   "cell_type": "code",
   "execution_count": 25,
   "id": "dfb926e0-b6bc-4927-a8b0-9e7b7a6387ab",
   "metadata": {},
   "outputs": [],
   "source": [
    "# Balancing the class Ditribution"
   ]
  },
  {
   "cell_type": "code",
   "execution_count": 26,
   "id": "8870bbcb-3f74-4a77-9e9a-579f78cb27a4",
   "metadata": {},
   "outputs": [
    {
     "name": "stdout",
     "output_type": "stream",
     "text": [
      "Value Count : Outcome\n",
      "0    401\n",
      "1    213\n",
      "Name: count, dtype: int64\n"
     ]
    }
   ],
   "source": [
    "print(f\"Value Count : {Y_train.value_counts()}\")"
   ]
  },
  {
   "cell_type": "code",
   "execution_count": 27,
   "id": "87f05f2a-fd65-4d18-9287-225ab2d2d899",
   "metadata": {},
   "outputs": [],
   "source": [
    "# making dataset balance"
   ]
  },
  {
   "cell_type": "code",
   "execution_count": 28,
   "id": "293d2f5c-6687-4ca5-88d5-9000253f7671",
   "metadata": {},
   "outputs": [],
   "source": [
    "sm = RandomOverSampler()\n",
    "x_train , y_train = sm.fit_resample(X_train,Y_train)"
   ]
  },
  {
   "cell_type": "code",
   "execution_count": 29,
   "id": "fcdc6fea-fe09-4f7f-8b59-ced7a6f0ab4d",
   "metadata": {},
   "outputs": [
    {
     "name": "stdout",
     "output_type": "stream",
     "text": [
      "Before : Outcome\n",
      "0    401\n",
      "1    213\n",
      "Name: count, dtype: int64\n",
      "After : Outcome\n",
      "0    401\n",
      "1    401\n",
      "Name: count, dtype: int64\n"
     ]
    }
   ],
   "source": [
    "print(\"Before :\", Y_train.value_counts())\n",
    "print(\"After :\", y_train.value_counts())"
   ]
  },
  {
   "cell_type": "code",
   "execution_count": 30,
   "id": "b15e8271-e7b4-4ba4-ae0c-1dde6b3f94bf",
   "metadata": {},
   "outputs": [],
   "source": [
    "# Model Training + Cross-Validation"
   ]
  },
  {
   "cell_type": "code",
   "execution_count": 31,
   "id": "9d5fce87-01b0-44de-9ffd-d3915cd90dca",
   "metadata": {},
   "outputs": [],
   "source": [
    "models = {\n",
    "\n",
    "    'Logistic Regression' : LogisticRegression(),\n",
    "    'KNN' : KNeighborsClassifier(),\n",
    "    'SVM' : SVC(),\n",
    "    'Decision Tree':DecisionTreeClassifier(),\n",
    "    'Random Forest':RandomForestClassifier(),\n",
    "    'AdaBoost':AdaBoostClassifier(),\n",
    "    'GradientBoost':GradientBoostingClassifier(),\n",
    "    'XGBoost':xgb.XGBClassifier()\n",
    "}"
   ]
  },
  {
   "cell_type": "code",
   "execution_count": 32,
   "id": "7a639e27-09b9-4c6c-81d7-b84d46c48c4b",
   "metadata": {},
   "outputs": [
    {
     "name": "stdout",
     "output_type": "stream",
     "text": [
      "Logistic Regression | Accuracy Score : 70.779%\n",
      "Logistic Regression | Mean F1-Score After CV : 75.457\n",
      "\n",
      "KNN | Accuracy Score : 70.779%\n",
      "KNN | Mean F1-Score After CV : 76.313\n",
      "\n",
      "SVM | Accuracy Score : 72.727%\n",
      "SVM | Mean F1-Score After CV : 78.714\n",
      "\n",
      "Decision Tree | Accuracy Score : 70.779%\n",
      "Decision Tree | Mean F1-Score After CV : 80.982\n",
      "\n",
      "Random Forest | Accuracy Score : 75.974%\n",
      "Random Forest | Mean F1-Score After CV : 86.190\n",
      "\n",
      "AdaBoost | Accuracy Score : 73.377%\n",
      "AdaBoost | Mean F1-Score After CV : 77.324\n",
      "\n",
      "GradientBoost | Accuracy Score : 74.026%\n",
      "GradientBoost | Mean F1-Score After CV : 82.263\n",
      "\n",
      "XGBoost | Accuracy Score : 72.727%\n",
      "XGBoost | Mean F1-Score After CV : 84.414\n",
      "\n"
     ]
    }
   ],
   "source": [
    "for name , model in models.items():\n",
    "    model.fit(x_train , y_train)\n",
    "    y_pred = model.predict(X_test)\n",
    "    print(f\"{name} | Accuracy Score : {accuracy_score(Y_test , y_pred)*100:.3f}%\")\n",
    "    cv = StratifiedKFold(n_splits=5, shuffle=True, random_state=42)\n",
    "    scores = cross_val_score(model , x_train , y_train , cv=cv , scoring='f1')\n",
    "    print(f\"{name} | Mean F1-Score After CV : {np.mean(scores)*100:.3f}\\n\")"
   ]
  },
  {
   "cell_type": "code",
   "execution_count": 33,
   "id": "119e75fc-b11b-4ea2-948c-5ab9a3c9120d",
   "metadata": {},
   "outputs": [],
   "source": [
    "# Train Best Model"
   ]
  },
  {
   "cell_type": "code",
   "execution_count": 34,
   "id": "e69c3771-941a-4ff1-a9c0-e735b720e03d",
   "metadata": {},
   "outputs": [],
   "source": [
    "best_model = RandomForestClassifier()\n",
    "best_model.fit(x_train , y_train)\n",
    "y_pred = best_model.predict(X_test)"
   ]
  },
  {
   "cell_type": "code",
   "execution_count": 35,
   "id": "8050cf9e-6856-4948-96d7-c29f13f8bcf6",
   "metadata": {},
   "outputs": [],
   "source": [
    "# Model Evaluation"
   ]
  },
  {
   "cell_type": "code",
   "execution_count": 36,
   "id": "00660979-2910-4db7-a90c-2ee6e9d1d203",
   "metadata": {},
   "outputs": [
    {
     "name": "stdout",
     "output_type": "stream",
     "text": [
      "Training Score : 100.0\n",
      "Testing Score : 75.32467532467533\n",
      "Accuracy Score : 75.32467532467533\n",
      "Precision Score : 63.934\n",
      "Recall Score : 70.909\n",
      "F1-Score : 67.241\n"
     ]
    }
   ],
   "source": [
    "print(\"Training Score :\",best_model.score(x_train,y_train)*100)\n",
    "print(\"Testing Score :\",best_model.score(X_test,Y_test)*100)\n",
    "print(\"Accuracy Score :\",accuracy_score(Y_test,y_pred)*100)\n",
    "print(\"Precision Score :\",round(precision_score(Y_test,y_pred)*100,3))\n",
    "print(\"Recall Score :\",round(recall_score(Y_test,y_pred)*100,3))\n",
    "print(\"F1-Score :\",round(f1_score(Y_test,y_pred)*100,3))"
   ]
  },
  {
   "cell_type": "code",
   "execution_count": 37,
   "id": "d694038c-57ba-4bb4-a568-97bdb48d57e0",
   "metadata": {},
   "outputs": [],
   "source": [
    "# Confusion Matrix"
   ]
  },
  {
   "cell_type": "code",
   "execution_count": 38,
   "id": "35b0dfdc-98bb-4282-920e-3ef4b3c1a532",
   "metadata": {},
   "outputs": [],
   "source": [
    "cm = confusion_matrix(Y_test,y_pred)"
   ]
  },
  {
   "cell_type": "code",
   "execution_count": 39,
   "id": "3e5d1dba-4ec8-443b-aa5d-031235bf97e1",
   "metadata": {},
   "outputs": [
    {
     "data": {
      "image/png": "[encoded data removed]",
      "text/plain": [
       "<Figure size 640x480 with 2 Axes>"
      ]
     },
     "metadata": {},
     "output_type": "display_data"
    }
   ],
   "source": [
    "sns.heatmap(data=cm,annot=True,)\n",
    "plt.xlabel(\"Predicted\")\n",
    "plt.ylabel(\"Actual\")\n",
    "plt.show()"
   ]
  },
  {
   "cell_type": "code",
   "execution_count": 40,
   "id": "302a4da0-590b-49cb-8b9a-a29bd5a8f4ea",
   "metadata": {},
   "outputs": [],
   "source": [
    "# Detailed Report"
   ]
  },
  {
   "cell_type": "code",
   "execution_count": 41,
   "id": "e3d22a43-445e-4974-81ab-7315f8de1d41",
   "metadata": {},
   "outputs": [
    {
     "name": "stdout",
     "output_type": "stream",
     "text": [
      "              precision    recall  f1-score   support\n",
      "\n",
      "           0       0.83      0.78      0.80        99\n",
      "           1       0.64      0.71      0.67        55\n",
      "\n",
      "    accuracy                           0.75       154\n",
      "   macro avg       0.73      0.74      0.74       154\n",
      "weighted avg       0.76      0.75      0.76       154\n",
      "\n"
     ]
    }
   ],
   "source": [
    "print(classification_report(Y_test,y_pred))"
   ]
  },
  {
   "cell_type": "code",
   "execution_count": 42,
   "id": "6ccd3280-63a4-4c90-a039-7c67a196456d",
   "metadata": {},
   "outputs": [],
   "source": [
    "# final_model = RandomForestClassifier(n_estimators = 300, max_depth= 11, criterion = 'entropy')\n",
    "# final_model.fit(x_train , y_train)\n",
    "# final_model.score(x_train , y_train)*100 , final_model.score(x_test,y_test)*100"
   ]
  },
  {
   "cell_type": "code",
   "execution_count": 43,
   "id": "32749b3f-73ae-4aac-a779-158a0b60d58e",
   "metadata": {},
   "outputs": [],
   "source": [
    "# Hyperparameter Tuning"
   ]
  },
  {
   "cell_type": "code",
   "execution_count": 44,
   "id": "bf937061-ea66-4911-b3ea-56ae1407931a",
   "metadata": {},
   "outputs": [],
   "source": [
    "parameter = {'n_estimators':[i for i in range(100,1000,100)],\n",
    "            'criterion':[\"gini\", \"entropy\", \"log_loss\"],\n",
    "            'max_depth':[j for j in range(1,21)]}"
   ]
  },
  {
   "cell_type": "code",
   "execution_count": 45,
   "id": "db0557ce-6feb-4e0e-a655-6cf567c7ea1d",
   "metadata": {},
   "outputs": [],
   "source": [
    "rscv = RandomizedSearchCV(\n",
    "    RandomForestClassifier(random_state=42),\n",
    "    param_distributions=parameter,\n",
    "    n_iter=50,\n",
    "    cv=5,\n",
    "    scoring='recall',\n",
    "    n_jobs=-1,\n",
    "    verbose=2\n",
    ")"
   ]
  },
  {
   "cell_type": "code",
   "execution_count": 46,
   "id": "85bfee35-f638-4b3d-8a0d-42cd4c3b0bd3",
   "metadata": {},
   "outputs": [],
   "source": [
    "# rscv.fit(x_train , y_train)"
   ]
  },
  {
   "cell_type": "code",
   "execution_count": 47,
   "id": "a9e8e325-a667-4e2f-947c-9d466a2ff5df",
   "metadata": {},
   "outputs": [],
   "source": [
    "# print(\"Best Paramater :\",rscv.best_params_)\n",
    "# print(\"Best CV Score :\",rscv.best_score_*100)"
   ]
  },
  {
   "cell_type": "code",
   "execution_count": 48,
   "id": "fd0e43f8-2a72-43b8-8dcb-cee1c7309ce1",
   "metadata": {},
   "outputs": [],
   "source": [
    "# Final Model Training & Testing"
   ]
  },
  {
   "cell_type": "code",
   "execution_count": 51,
   "id": "110ecd64-2753-485b-9c82-4a74ca641773",
   "metadata": {},
   "outputs": [
    {
     "name": "stdout",
     "output_type": "stream",
     "text": [
      "Accuracy score of Final Model : 75.97402597402598\n"
     ]
    }
   ],
   "source": [
    "print(\"Accuracy score of Final Model :\",accuracy_score(Y_test,y_prd)*100)"
   ]
  },
  {
   "cell_type": "code",
   "execution_count": 52,
   "id": "4a416e81-cb7c-4faf-9c30-51a5630a84c2",
   "metadata": {},
   "outputs": [],
   "source": [
    "# plot_decision_regions(X_test, Y_test.to_numpy() , clf=final_model)\n",
    "# plt.show()"
   ]
  },
  {
   "cell_type": "code",
   "execution_count": 53,
   "id": "1b54e835-a619-431e-a155-e86b7e378152",
   "metadata": {},
   "outputs": [],
   "source": [
    "# 10. Save Model for Deployment"
   ]
  },
  {
   "cell_type": "code",
   "execution_count": 54,
   "id": "f147c546-5ff1-4fcf-813d-5d4579f278d2",
   "metadata": {},
   "outputs": [
    {
     "data": {
      "text/plain": [
       "['Diabetes_scaler.pkl']"
      ]
     },
     "execution_count": 54,
     "metadata": {},
     "output_type": "execute_result"
    }
   ],
   "source": [
    "joblib.dump(final_model,\"Diabetes_prd_model.pkl\")\n",
    "joblib.dump(scaler,\"Diabetes_scaler.pkl\")"
   ]
  },
  {
   "cell_type": "code",
   "execution_count": null,
   "id": "8cce334e-b214-423e-9d70-da9bbe6529ef",
   "metadata": {},
   "outputs": [],
   "source": []
  }
 ],
 "metadata": {
  "kernelspec": {
   "display_name": "Python 3 (ipykernel)",
   "language": "python",
   "name": "python3"
  },
  "language_info": {
   "codemirror_mode": {
    "name": "ipython",
    "version": 3
   },
   "file_extension": ".py",
   "mimetype": "text/x-python",
   "name": "python",
   "nbconvert_exporter": "python",
   "pygments_lexer": "ipython3",
   "version": "3.12.3"
  }
 },
 "nbformat": 4,
 "nbformat_minor": 5
}
